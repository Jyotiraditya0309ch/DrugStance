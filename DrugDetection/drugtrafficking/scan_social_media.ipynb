{
 "cells": [
  {
   "cell_type": "code",
   "execution_count": 1,
   "metadata": {},
   "outputs": [],
   "source": [
    "from eg import get_data"
   ]
  },
  {
   "cell_type": "code",
   "execution_count": 2,
   "metadata": {},
   "outputs": [],
   "source": [
    "data=get_data()"
   ]
  },
  {
   "cell_type": "markdown",
   "metadata": {},
   "source": []
  },
  {
   "cell_type": "code",
   "execution_count": 14,
   "metadata": {},
   "outputs": [],
   "source": [
    "comments=[]\n",
    "comment_user_id=[]\n",
    "post_user_id=[]\n",
    "for inst in data:\n",
    "    if inst['comments']:\n",
    "         comments.extend(inst['comments'])\n",
    "         comment_user_id.extend(inst['comment_authors'])\n",
    "         post_user_id.extend(len(inst['comments'])*[inst['user']])"
   ]
  },
  {
   "cell_type": "code",
   "execution_count": 18,
   "metadata": {},
   "outputs": [],
   "source": [
    "comments"
   ]
  },
  {
   "cell_type": "code",
   "execution_count": 21,
   "metadata": {},
   "outputs": [],
   "source": [
    "import string"
   ]
  },
  {
   "cell_type": "code",
   "execution_count": 20,
   "metadata": {},
   "outputs": [],
   "source": [
    "def preprocessing_text(text):\n",
    "    table=str.maketrans('','',string.punctuation)\n",
    "    pre_text=[]\n",
    "    for inst in text:\n",
    "        sent=\"\"\n",
    "        words=inst.split(\" \")\n",
    "        for word in words:\n",
    "            word=word.translate(table)\n",
    "            if word.isalpha():\n",
    "                word=word.lower()\n",
    "                sent+=word\n",
    "                sent+=\" \"\n",
    "                \n",
    "        pre_text.append(sent.strip())\n",
    "        \n",
    "    return pre_text"
   ]
  },
  {
   "cell_type": "code",
   "execution_count": 25,
   "metadata": {},
   "outputs": [],
   "source": [
    "from tensorflow.keras.preprocessing.text import tokenizer_from_json"
   ]
  },
  {
   "cell_type": "code",
   "execution_count": 24,
   "metadata": {},
   "outputs": [],
   "source": [
    "with open(r'C:\\Desktop\\CodeUtsava\\Project\\api\\drugtrafficking\\Models\\drug_sentiment_tokenizer.json','r')as file:\n",
    "    tokenizer_json=file.read()"
   ]
  },
  {
   "cell_type": "code",
   "execution_count": 26,
   "metadata": {},
   "outputs": [],
   "source": [
    "tokenizer=tokenizer_from_json(tokenizer_json)"
   ]
  },
  {
   "cell_type": "code",
   "execution_count": 27,
   "metadata": {},
   "outputs": [],
   "source": [
    "tokenizer"
   ]
  },
  {
   "cell_type": "code",
   "execution_count": 29,
   "metadata": {},
   "outputs": [],
   "source": [
    "input_comments=preprocessing_text(comments)"
   ]
  },
  {
   "cell_type": "code",
   "execution_count": 30,
   "metadata": {},
   "outputs": [],
   "source": [
    "input_comments"
   ]
  },
  {
   "cell_type": "code",
   "execution_count": 31,
   "metadata": {},
   "outputs": [],
   "source": [
    "inp=tokenizer.texts_to_sequences(input_comments)"
   ]
  },
  {
   "cell_type": "code",
   "execution_count": 32,
   "metadata": {},
   "outputs": [],
   "source": [
    "from tensorflow.keras.preprocessing.sequence import pad_sequences"
   ]
  },
  {
   "cell_type": "code",
   "execution_count": 34,
   "metadata": {},
   "outputs": [],
   "source": [
    "inp_seq=pad_sequences(inp,maxlen=12,padding='post',truncating='post')"
   ]
  },
  {
   "cell_type": "code",
   "execution_count": 38,
   "metadata": {},
   "outputs": [
    {
     "data": {
      "text/plain": [
       "array([[  1,   0,   0,   0,   0,   0,   0,   0,   0,   0,   0,   0],\n",
       "       [  1, 396,  20, 244,  16,   4,  25,  79,   0,   0,   0,   0],\n",
       "       [ 54, 199,  12, 807, 117, 458,  30,   7, 808, 459,   0,   0],\n",
       "       [  1, 189,   8,   2,  35,   1,   0,   0,   0,   0,   0,   0],\n",
       "       [  4,   1,   1,  21,  22, 398,   4,  22,  28,  35,   0,   0],\n",
       "       [244,  16,   4,  25,  28,  35,   0,   0,   0,   0,   0,   0],\n",
       "       [ 71,  20,  52,  70,  21, 131,   2, 139,  64,   0,   0,   0],\n",
       "       [ 18,   8,  78,   3,  25, 314,  13, 170, 462,   0,   0,   0],\n",
       "       [  4,  22,  28,  35,   0,   0,   0,   0,   0,   0,   0,   0],\n",
       "       [  4,  22,   3, 140,  28,  35,   0,   0,   0,   0,   0,   0],\n",
       "       [  2,  14,  11,   3, 307,  13, 308, 454,   0,   0,   0,   0],\n",
       "       [ 28,  64,  24, 267, 302,   4, 559,   0,   0,   0,   0,   0]])"
      ]
     },
     "execution_count": 38,
     "metadata": {},
     "output_type": "execute_result"
    }
   ],
   "source": [
    "inp_seq"
   ]
  },
  {
   "cell_type": "code",
   "execution_count": 37,
   "metadata": {},
   "outputs": [],
   "source": [
    "from tensorflow.keras.utils import CustomObjectScope"
   ]
  },
  {
   "cell_type": "code",
   "execution_count": 39,
   "metadata": {},
   "outputs": [],
   "source": [
    "from CustomLayers.fraction_constraint import FractionConstraint\n",
    "from CustomLayers.weighted_layer import WeightedLayer"
   ]
  },
  {
   "cell_type": "code",
   "execution_count": 40,
   "metadata": {},
   "outputs": [],
   "source": [
    "from tensorflow.keras.models import load_model"
   ]
  },
  {
   "cell_type": "code",
   "execution_count": 42,
   "metadata": {},
   "outputs": [
    {
     "name": "stdout",
     "output_type": "stream",
     "text": [
      "WARNING:tensorflow:From c:\\Users\\jyoti\\AppData\\Local\\Programs\\Python\\Python311\\Lib\\site-packages\\keras\\src\\backend\\tensorflow\\core.py:192: The name tf.placeholder is deprecated. Please use tf.compat.v1.placeholder instead.\n",
      "\n"
     ]
    },
    {
     "name": "stderr",
     "output_type": "stream",
     "text": [
      "WARNING:absl:Compiled the loaded model, but the compiled metrics have yet to be built. `model.compile_metrics` will be empty until you train or evaluate the model.\n"
     ]
    }
   ],
   "source": [
    "with CustomObjectScope({'FractionConstraint':FractionConstraint,'WeightedLayer':WeightedLayer}):\n",
    "    model=load_model(r'C:\\Desktop\\CodeUtsava\\Project\\api\\drugtrafficking\\Models\\drug_sentiment_model.h5')"
   ]
  },
  {
   "cell_type": "code",
   "execution_count": 43,
   "metadata": {},
   "outputs": [
    {
     "name": "stdout",
     "output_type": "stream",
     "text": [
      "\u001b[1m1/1\u001b[0m \u001b[32m━━━━━━━━━━━━━━━━━━━━\u001b[0m\u001b[37m\u001b[0m \u001b[1m1s\u001b[0m 653ms/step\n"
     ]
    }
   ],
   "source": [
    "pred=model.predict(inp_seq)"
   ]
  },
  {
   "cell_type": "code",
   "execution_count": 45,
   "metadata": {},
   "outputs": [
    {
     "data": {
      "text/plain": [
       "array([[1.0000000e+00],\n",
       "       [1.0000000e+00],\n",
       "       [1.0000000e+00],\n",
       "       [1.0000000e+00],\n",
       "       [1.0000000e+00],\n",
       "       [1.0000000e+00],\n",
       "       [1.0000000e+00],\n",
       "       [4.0017860e-17],\n",
       "       [1.0000000e+00],\n",
       "       [1.0000000e+00],\n",
       "       [1.9221644e-19],\n",
       "       [1.0000000e+00]], dtype=float32)"
      ]
     },
     "execution_count": 45,
     "metadata": {},
     "output_type": "execute_result"
    }
   ],
   "source": [
    "pred"
   ]
  },
  {
   "cell_type": "code",
   "execution_count": 47,
   "metadata": {},
   "outputs": [],
   "source": [
    "import tensorflow as tf"
   ]
  },
  {
   "cell_type": "code",
   "execution_count": 50,
   "metadata": {},
   "outputs": [],
   "source": [
    "pred=tf.cast(tf.round(pred),tf.int32).numpy()"
   ]
  },
  {
   "cell_type": "code",
   "execution_count": 51,
   "metadata": {},
   "outputs": [
    {
     "data": {
      "text/plain": [
       "array([[1],\n",
       "       [1],\n",
       "       [1],\n",
       "       [1],\n",
       "       [1],\n",
       "       [1],\n",
       "       [1],\n",
       "       [0],\n",
       "       [1],\n",
       "       [1],\n",
       "       [0],\n",
       "       [1]])"
      ]
     },
     "execution_count": 51,
     "metadata": {},
     "output_type": "execute_result"
    }
   ],
   "source": [
    "pred"
   ]
  },
  {
   "cell_type": "code",
   "execution_count": 54,
   "metadata": {},
   "outputs": [
    {
     "data": {
      "text/plain": [
       "['hey',\n",
       " 'Please tell me where can i find it',\n",
       " 'been thinking about diversifying into other drugs a smart move',\n",
       " 'hey,how much for the drug huh?',\n",
       " 'I pay whatever you want but i want this drug.',\n",
       " 'Where can i find this drug',\n",
       " 'hit me up if you have the latest stash',\n",
       " 'looking for ways to find inspiration in everyday tasks',\n",
       " 'I want this drug....',\n",
       " 'I want to try this drug',\n",
       " 'The best way to indulge in comfort foods',\n",
       " 'this stash is better than i expected']"
      ]
     },
     "execution_count": 54,
     "metadata": {},
     "output_type": "execute_result"
    }
   ],
   "source": [
    "comments"
   ]
  },
  {
   "cell_type": "code",
   "execution_count": 52,
   "metadata": {},
   "outputs": [],
   "source": [
    "predictions=[p[0] for p in pred]"
   ]
  },
  {
   "cell_type": "code",
   "execution_count": 53,
   "metadata": {},
   "outputs": [
    {
     "data": {
      "text/plain": [
       "[1, 1, 1, 1, 1, 1, 1, 0, 1, 1, 0, 1]"
      ]
     },
     "execution_count": 53,
     "metadata": {},
     "output_type": "execute_result"
    }
   ],
   "source": [
    "predictions"
   ]
  },
  {
   "cell_type": "code",
   "execution_count": 55,
   "metadata": {},
   "outputs": [],
   "source": [
    "drug_dealer=[]\n",
    "drug_customer=[]\n",
    "drug_comment=[]\n",
    "for uid,cid,comm,pred in zip(post_user_id,comment_user_id,comments,predictions):\n",
    "    if pred==1:\n",
    "        drug_dealer.append(uid)\n",
    "        drug_customer.append(cid)\n",
    "        drug_comment.append(comm)\n"
   ]
  },
  {
   "cell_type": "code",
   "execution_count": 1,
   "metadata": {},
   "outputs": [],
   "source": [
    "a=[1,2,3,5]\n",
    "a.reverse()"
   ]
  },
  {
   "cell_type": "code",
   "execution_count": 3,
   "metadata": {},
   "outputs": [
    {
     "data": {
      "text/plain": [
       "<list_reverseiterator at 0x207a9ebb370>"
      ]
     },
     "execution_count": 3,
     "metadata": {},
     "output_type": "execute_result"
    }
   ],
   "source": [
    "reversed(a)"
   ]
  },
  {
   "cell_type": "code",
   "execution_count": 5,
   "metadata": {},
   "outputs": [],
   "source": [
    "from eg3 import get_entire_data"
   ]
  },
  {
   "cell_type": "code",
   "execution_count": 7,
   "metadata": {},
   "outputs": [],
   "source": [
    "data=get_entire_data()"
   ]
  },
  {
   "cell_type": "code",
   "execution_count": 15,
   "metadata": {},
   "outputs": [],
   "source": [
    "a=data[0]['user']"
   ]
  },
  {
   "cell_type": "code",
   "execution_count": 16,
   "metadata": {},
   "outputs": [
    {
     "data": {
      "text/plain": [
       "31"
      ]
     },
     "execution_count": 16,
     "metadata": {},
     "output_type": "execute_result"
    }
   ],
   "source": [
    "a"
   ]
  },
  {
   "cell_type": "code",
   "execution_count": 12,
   "metadata": {},
   "outputs": [],
   "source": [
    "import json"
   ]
  },
  {
   "cell_type": "code",
   "execution_count": 13,
   "metadata": {},
   "outputs": [],
   "source": [
    "with open(r'C:\\Desktop\\CodeUtsava\\Project\\api\\drugtrafficking\\Models\\susp_user.json','r') as file:\n",
    "    sus=json.load(file) "
   ]
  },
  {
   "cell_type": "code",
   "execution_count": 17,
   "metadata": {},
   "outputs": [
    {
     "name": "stdout",
     "output_type": "stream",
     "text": [
      "y\n"
     ]
    }
   ],
   "source": [
    "if a in sus:\n",
    "    print('y')"
   ]
  },
  {
   "cell_type": "code",
   "execution_count": 2,
   "metadata": {},
   "outputs": [
    {
     "data": {
      "text/plain": [
       "[5, 3, 2, 1]"
      ]
     },
     "execution_count": 2,
     "metadata": {},
     "output_type": "execute_result"
    }
   ],
   "source": [
    "a"
   ]
  },
  {
   "cell_type": "code",
   "execution_count": 56,
   "metadata": {},
   "outputs": [
    {
     "data": {
      "text/plain": [
       "['hey',\n",
       " 'Please tell me where can i find it',\n",
       " 'been thinking about diversifying into other drugs a smart move',\n",
       " 'hey,how much for the drug huh?',\n",
       " 'I pay whatever you want but i want this drug.',\n",
       " 'Where can i find this drug',\n",
       " 'hit me up if you have the latest stash',\n",
       " 'I want this drug....',\n",
       " 'I want to try this drug',\n",
       " 'this stash is better than i expected']"
      ]
     },
     "execution_count": 56,
     "metadata": {},
     "output_type": "execute_result"
    }
   ],
   "source": [
    "drug_comment"
   ]
  },
  {
   "cell_type": "code",
   "execution_count": 57,
   "metadata": {},
   "outputs": [],
   "source": [
    "from eg1 import get_data"
   ]
  },
  {
   "cell_type": "code",
   "execution_count": 58,
   "metadata": {},
   "outputs": [],
   "source": [
    "user_data=get_data()"
   ]
  },
  {
   "cell_type": "code",
   "execution_count": 66,
   "metadata": {},
   "outputs": [],
   "source": [
    "def get_user_data_from_id(id,keyword):\n",
    "    data={}\n",
    "    for inst in user_data:\n",
    "        if inst['id']==id:\n",
    "            data[keyword+'_id']=inst['id']\n",
    "            data[keyword+'_username']=inst['username']\n",
    "            data[keyword+'_name']=inst['firstname']+' '+inst['surname']\n",
    "            data[keyword+'_location']=inst['location']\n",
    "            data[keyword+'_ip_address']=inst['ipaddress']\n",
    "    return data\n",
    "            \n",
    "    "
   ]
  },
  {
   "cell_type": "code",
   "execution_count": 63,
   "metadata": {},
   "outputs": [
    {
     "data": {
      "text/plain": [
       "[{'id': 7,\n",
       "  'username': 'ghalib',\n",
       "  'firstname': 'Mirza',\n",
       "  'surname': 'Ghalib',\n",
       "  'email': 'ghalib@gmail.com',\n",
       "  'isOnline': 'no',\n",
       "  'lastOnline': '1527942645296',\n",
       "  'ipaddress': '127.0.0.1',\n",
       "  'location': None},\n",
       " {'id': 8,\n",
       "  'username': 'coldplay',\n",
       "  'firstname': 'cold',\n",
       "  'surname': 'play',\n",
       "  'email': 'coldplay@gmail.com',\n",
       "  'isOnline': 'no',\n",
       "  'lastOnline': '',\n",
       "  'ipaddress': '127.0.0.1',\n",
       "  'location': None},\n",
       " {'id': 10,\n",
       "  'username': 'noddy',\n",
       "  'firstname': 'your',\n",
       "  'surname': 'noddy',\n",
       "  'email': 'noddy@gmail.com',\n",
       "  'isOnline': 'no',\n",
       "  'lastOnline': '',\n",
       "  'ipaddress': '127.0.0.1',\n",
       "  'location': None},\n",
       " {'id': 11,\n",
       "  'username': 'nobita',\n",
       "  'firstname': 'nobita',\n",
       "  'surname': 'nobi',\n",
       "  'email': 'nobita@gmail.com',\n",
       "  'isOnline': 'no',\n",
       "  'lastOnline': '1524499561897',\n",
       "  'ipaddress': '127.0.0.1',\n",
       "  'location': None},\n",
       " {'id': 12,\n",
       "  'username': 'pikachu',\n",
       "  'firstname': 'your',\n",
       "  'surname': 'pikachu',\n",
       "  'email': 'pikachu@gmail.com',\n",
       "  'isOnline': 'no',\n",
       "  'lastOnline': '',\n",
       "  'ipaddress': '127.0.0.1',\n",
       "  'location': None},\n",
       " {'id': 13,\n",
       "  'username': 'iamsrk',\n",
       "  'firstname': 'Shahrukh',\n",
       "  'surname': 'Khan',\n",
       "  'email': 'iamsrk@gmail.com',\n",
       "  'isOnline': 'no',\n",
       "  'lastOnline': '',\n",
       "  'ipaddress': '127.0.0.1',\n",
       "  'location': None},\n",
       " {'id': 14,\n",
       "  'username': 'kinkade',\n",
       "  'firstname': 'Thomas',\n",
       "  'surname': 'Kinkade',\n",
       "  'email': 'kinkade@gmail.com',\n",
       "  'isOnline': 'no',\n",
       "  'lastOnline': '',\n",
       "  'ipaddress': '127.0.0.1',\n",
       "  'location': None},\n",
       " {'id': 15,\n",
       "  'username': 'suniyo',\n",
       "  'firstname': 'suniyo',\n",
       "  'surname': 'honekawa',\n",
       "  'email': 'suniyo@gmail.com',\n",
       "  'isOnline': 'no',\n",
       "  'lastOnline': '',\n",
       "  'ipaddress': '127.0.0.1',\n",
       "  'location': None},\n",
       " {'id': 16,\n",
       "  'username': 'zayn',\n",
       "  'firstname': 'Zayn',\n",
       "  'surname': 'Malik',\n",
       "  'email': 'zayn@gmail.com',\n",
       "  'isOnline': 'yes',\n",
       "  'lastOnline': '1526663478084',\n",
       "  'ipaddress': '127.0.0.1',\n",
       "  'location': None},\n",
       " {'id': 17,\n",
       "  'username': 'nfak',\n",
       "  'firstname': 'Nusratfateh',\n",
       "  'surname': 'Alikhan',\n",
       "  'email': 'nfak@gmail.com',\n",
       "  'isOnline': 'no',\n",
       "  'lastOnline': '',\n",
       "  'ipaddress': '127.0.0.1',\n",
       "  'location': None},\n",
       " {'id': 18,\n",
       "  'username': 'ragnar',\n",
       "  'firstname': 'Ragnar',\n",
       "  'surname': 'Lothbrok',\n",
       "  'email': 'ragnar@gmail.com',\n",
       "  'isOnline': 'no',\n",
       "  'lastOnline': '1525866681046',\n",
       "  'ipaddress': '127.0.0.1',\n",
       "  'location': None},\n",
       " {'id': 19,\n",
       "  'username': 'jonsnow',\n",
       "  'firstname': 'jon_',\n",
       "  'surname': 'snow',\n",
       "  'email': 'jonsnow@gmail.com',\n",
       "  'isOnline': 'no',\n",
       "  'lastOnline': '',\n",
       "  'ipaddress': '127.0.0.1',\n",
       "  'location': None},\n",
       " {'id': 20,\n",
       "  'username': 'gian',\n",
       "  'firstname': 'Takeshi',\n",
       "  'surname': 'Gauda',\n",
       "  'email': 'gian@gmail.com',\n",
       "  'isOnline': 'no',\n",
       "  'lastOnline': '',\n",
       "  'ipaddress': '127.0.0.1',\n",
       "  'location': None},\n",
       " {'id': 24,\n",
       "  'username': 'takkar',\n",
       "  'firstname': 'iam_',\n",
       "  'surname': 'takkar',\n",
       "  'email': 'takkar@gmail.com',\n",
       "  'isOnline': 'yes',\n",
       "  'lastOnline': '1528490530271',\n",
       "  'ipaddress': '127.0.0.1',\n",
       "  'location': None},\n",
       " {'id': 27,\n",
       "  'username': 'taylor_swift',\n",
       "  'firstname': 'taylor',\n",
       "  'surname': 'swift',\n",
       "  'email': 'taylor_swift@gmail.com',\n",
       "  'isOnline': 'no',\n",
       "  'lastOnline': '1526387270500',\n",
       "  'ipaddress': '127.0.0.1',\n",
       "  'location': None},\n",
       " {'id': 28,\n",
       "  'username': 'selena',\n",
       "  'firstname': 'selena',\n",
       "  'surname': 'gomez',\n",
       "  'email': 'selenagomez@gmail.com',\n",
       "  'isOnline': 'no',\n",
       "  'lastOnline': '1528534503389',\n",
       "  'ipaddress': '127.0.0.1',\n",
       "  'location': None},\n",
       " {'id': 29,\n",
       "  'username': 'steve_jobs',\n",
       "  'firstname': 'steve',\n",
       "  'surname': 'jobs',\n",
       "  'email': 'steve_jobs@gmail.com',\n",
       "  'isOnline': 'no',\n",
       "  'lastOnline': '',\n",
       "  'ipaddress': '127.0.0.1',\n",
       "  'location': None},\n",
       " {'id': 30,\n",
       "  'username': 'doraemon',\n",
       "  'firstname': 'iam_',\n",
       "  'surname': 'doraemon',\n",
       "  'email': 'doraemon@gmail.com',\n",
       "  'isOnline': 'no',\n",
       "  'lastOnline': '1525801713580',\n",
       "  'ipaddress': '127.0.0.1',\n",
       "  'location': None},\n",
       " {'id': 31,\n",
       "  'username': 'jyo39',\n",
       "  'firstname': 'jyotiraditya',\n",
       "  'surname': 'chillal',\n",
       "  'email': 'jyotiradityachillal2020@gmail.com',\n",
       "  'isOnline': 'no',\n",
       "  'lastOnline': '1729993576040',\n",
       "  'ipaddress': '127.0.0.1',\n",
       "  'location': None},\n",
       " {'id': 32,\n",
       "  'username': 'jyo3',\n",
       "  'firstname': 'jyotiraditya',\n",
       "  'surname': 'chillal',\n",
       "  'email': '112215081@cse.iiitp.ac.in',\n",
       "  'isOnline': 'yes',\n",
       "  'lastOnline': None,\n",
       "  'ipaddress': '127.0.0.1',\n",
       "  'location': None},\n",
       " {'id': 33,\n",
       "  'username': 'priyanshu',\n",
       "  'firstname': 'Priyanshu',\n",
       "  'surname': 'Yadav',\n",
       "  'email': 'amartyapawar007@gmail.com',\n",
       "  'isOnline': 'no',\n",
       "  'lastOnline': '1729994195224',\n",
       "  'ipaddress': '127.0.0.1',\n",
       "  'location': None},\n",
       " {'id': 34,\n",
       "  'username': 'amar',\n",
       "  'firstname': 'Amartya',\n",
       "  'surname': 'Pawar',\n",
       "  'email': 'abc@gmail.com',\n",
       "  'isOnline': 'no',\n",
       "  'lastOnline': '1729993747501',\n",
       "  'ipaddress': '127.0.0.1',\n",
       "  'location': None},\n",
       " {'id': 35,\n",
       "  'username': 'teds',\n",
       "  'firstname': 'jyhgfy',\n",
       "  'surname': 'chbhjh',\n",
       "  'email': 'parthpat512@gmail.com',\n",
       "  'isOnline': 'no',\n",
       "  'lastOnline': '1729994003170',\n",
       "  'ipaddress': '127.0.0.1',\n",
       "  'location': None},\n",
       " {'id': 36,\n",
       "  'username': 'demilia',\n",
       "  'firstname': 'Yash',\n",
       "  'surname': 'Kush',\n",
       "  'email': 'yash@007gmail.com',\n",
       "  'isOnline': 'no',\n",
       "  'lastOnline': '1729993479209',\n",
       "  'ipaddress': '::1',\n",
       "  'location': '123, near Aurbindo Hospital, Risi Nagar, Emarld City, Indore, Madhya Pradesh 452001, India'},\n",
       " {'id': 37,\n",
       "  'username': 'ria27',\n",
       "  'firstname': 'Riya',\n",
       "  'surname': 'Sharma',\n",
       "  'email': 'ria@gmail.com',\n",
       "  'isOnline': 'yes',\n",
       "  'lastOnline': None,\n",
       "  'ipaddress': '::1',\n",
       "  'location': '123, near Aurbindo Hospital, Risi Nagar, Emarld City, Indore, Madhya Pradesh 452001, India'}]"
      ]
     },
     "execution_count": 63,
     "metadata": {},
     "output_type": "execute_result"
    }
   ],
   "source": [
    "user_data"
   ]
  },
  {
   "cell_type": "code",
   "execution_count": 67,
   "metadata": {},
   "outputs": [
    {
     "data": {
      "text/plain": [
       "{'drug_dealer_id': 35,\n",
       " 'drug_dealer_username': 'teds',\n",
       " 'drug_dealer_name': 'jyhgfy chbhjh',\n",
       " 'drug_dealer_location': None,\n",
       " 'drug_dealer_ip_address': '127.0.0.1'}"
      ]
     },
     "execution_count": 67,
     "metadata": {},
     "output_type": "execute_result"
    }
   ],
   "source": [
    "get_user_data_from_id(35,'drug_dealer')"
   ]
  },
  {
   "cell_type": "code",
   "execution_count": 16,
   "metadata": {},
   "outputs": [],
   "source": [
    "len(post_user_id)"
   ]
  },
  {
   "cell_type": "code",
   "execution_count": 8,
   "metadata": {},
   "outputs": [],
   "source": [
    "len(comments)"
   ]
  },
  {
   "cell_type": "code",
   "execution_count": 11,
   "metadata": {},
   "outputs": [],
   "source": [
    "len(comment_user_id)"
   ]
  },
  {
   "cell_type": "code",
   "execution_count": 2,
   "metadata": {},
   "outputs": [],
   "source": [
    "a=[]\n",
    "if 1 not in a:\n",
    "    print('u')"
   ]
  },
  {
   "cell_type": "code",
   "execution_count": 3,
   "metadata": {},
   "outputs": [
    {
     "data": {
      "text/plain": [
       "[{'post_id': 103,\n",
       "  'user': 31,\n",
       "  'description': '#powder',\n",
       "  'imgSrc': 'C:\\\\Desktop\\\\CodeUtsava\\\\React-Instagram-Clone-2.0\\\\dist\\\\posts\\\\instagram_1729933298648.jpg',\n",
       "  'location': '',\n",
       "  'comments': [],\n",
       "  'comment_authors': []},\n",
       " {'post_id': 104,\n",
       "  'user': 31,\n",
       "  'description': '#drug',\n",
       "  'imgSrc': 'C:\\\\Desktop\\\\CodeUtsava\\\\React-Instagram-Clone-2.0\\\\dist\\\\posts\\\\instagram_1729933318839.jpg',\n",
       "  'location': '',\n",
       "  'comments': [],\n",
       "  'comment_authors': []},\n",
       " {'post_id': 105,\n",
       "  'user': 31,\n",
       "  'description': '#marijuana',\n",
       "  'imgSrc': 'C:\\\\Desktop\\\\CodeUtsava\\\\React-Instagram-Clone-2.0\\\\dist\\\\posts\\\\instagram_1729933342489.jpg',\n",
       "  'location': '',\n",
       "  'comments': [],\n",
       "  'comment_authors': []},\n",
       " {'post_id': 106,\n",
       "  'user': 33,\n",
       "  'description': '#drug #cocaine',\n",
       "  'imgSrc': 'C:\\\\Desktop\\\\CodeUtsava\\\\React-Instagram-Clone-2.0\\\\dist\\\\posts\\\\instagram_1729933516260.jpg',\n",
       "  'location': '',\n",
       "  'comments': [],\n",
       "  'comment_authors': []},\n",
       " {'post_id': 107,\n",
       "  'user': 34,\n",
       "  'description': '#drug #cocaine',\n",
       "  'imgSrc': 'C:\\\\Desktop\\\\CodeUtsava\\\\React-Instagram-Clone-2.0\\\\dist\\\\posts\\\\instagram_1729933741301.jpg',\n",
       "  'location': '123, near Aurbindo Hospital, Risi Nagar, Emarld City, Indore, Madhya Pradesh 452001, India',\n",
       "  'comments': [],\n",
       "  'comment_authors': []}]"
      ]
     },
     "execution_count": 3,
     "metadata": {},
     "output_type": "execute_result"
    }
   ],
   "source": [
    "data"
   ]
  },
  {
   "cell_type": "code",
   "execution_count": 30,
   "metadata": {},
   "outputs": [
    {
     "data": {
      "text/plain": [
       "'[{\"post_id\": 103, \"user\": 31, \"description\": \"#powder\", \"imgSrc\": \"C:\\\\\\\\Desktop\\\\\\\\CodeUtsava\\\\\\\\React-Instagram-Clone-2.0\\\\\\\\dist\\\\\\\\posts\\\\\\\\instagram_1729933298648.jpg\", \"location\": \"\", \"comments\": [], \"comment_authors\": []}, {\"post_id\": 104, \"user\": 31, \"description\": \"#drug\", \"imgSrc\": \"C:\\\\\\\\Desktop\\\\\\\\CodeUtsava\\\\\\\\React-Instagram-Clone-2.0\\\\\\\\dist\\\\\\\\posts\\\\\\\\instagram_1729933318839.jpg\", \"location\": \"\", \"comments\": [], \"comment_authors\": []}, {\"post_id\": 105, \"user\": 31, \"description\": \"#marijuana\", \"imgSrc\": \"C:\\\\\\\\Desktop\\\\\\\\CodeUtsava\\\\\\\\React-Instagram-Clone-2.0\\\\\\\\dist\\\\\\\\posts\\\\\\\\instagram_1729933342489.jpg\", \"location\": \"\", \"comments\": [], \"comment_authors\": []}, {\"post_id\": 106, \"user\": 33, \"description\": \"#drug #cocaine\", \"imgSrc\": \"C:\\\\\\\\Desktop\\\\\\\\CodeUtsava\\\\\\\\React-Instagram-Clone-2.0\\\\\\\\dist\\\\\\\\posts\\\\\\\\instagram_1729933516260.jpg\", \"location\": \"\", \"comments\": [], \"comment_authors\": []}, {\"post_id\": 107, \"user\": 34, \"description\": \"#drug #cocaine\", \"imgSrc\": \"C:\\\\\\\\Desktop\\\\\\\\CodeUtsava\\\\\\\\React-Instagram-Clone-2.0\\\\\\\\dist\\\\\\\\posts\\\\\\\\instagram_1729933741301.jpg\", \"location\": \"123, near Aurbindo Hospital, Risi Nagar, Emarld City, Indore, Madhya Pradesh 452001, India\", \"comments\": [], \"comment_authors\": []}]'"
      ]
     },
     "execution_count": 30,
     "metadata": {},
     "output_type": "execute_result"
    }
   ],
   "source": [
    "import json\n",
    "json.dumps(data)"
   ]
  },
  {
   "cell_type": "code",
   "execution_count": 4,
   "metadata": {},
   "outputs": [],
   "source": [
    "user_id=[]\n",
    "img_src=[]\n",
    "post_id=[]\n",
    "for inst in data:\n",
    "    user_id.append(inst['user'])\n",
    "    img_src.append(inst['imgSrc'])\n",
    "    post_id.append(inst['post_id'])"
   ]
  },
  {
   "cell_type": "code",
   "execution_count": 5,
   "metadata": {},
   "outputs": [
    {
     "data": {
      "text/plain": [
       "[31, 31, 31, 33, 34]"
      ]
     },
     "execution_count": 5,
     "metadata": {},
     "output_type": "execute_result"
    }
   ],
   "source": [
    "user_id"
   ]
  },
  {
   "cell_type": "code",
   "execution_count": 6,
   "metadata": {},
   "outputs": [
    {
     "data": {
      "text/plain": [
       "['C:\\\\Desktop\\\\CodeUtsava\\\\React-Instagram-Clone-2.0\\\\dist\\\\posts\\\\instagram_1729933298648.jpg',\n",
       " 'C:\\\\Desktop\\\\CodeUtsava\\\\React-Instagram-Clone-2.0\\\\dist\\\\posts\\\\instagram_1729933318839.jpg',\n",
       " 'C:\\\\Desktop\\\\CodeUtsava\\\\React-Instagram-Clone-2.0\\\\dist\\\\posts\\\\instagram_1729933342489.jpg',\n",
       " 'C:\\\\Desktop\\\\CodeUtsava\\\\React-Instagram-Clone-2.0\\\\dist\\\\posts\\\\instagram_1729933516260.jpg',\n",
       " 'C:\\\\Desktop\\\\CodeUtsava\\\\React-Instagram-Clone-2.0\\\\dist\\\\posts\\\\instagram_1729933741301.jpg']"
      ]
     },
     "execution_count": 6,
     "metadata": {},
     "output_type": "execute_result"
    }
   ],
   "source": [
    "img_src"
   ]
  },
  {
   "cell_type": "code",
   "execution_count": 7,
   "metadata": {},
   "outputs": [
    {
     "data": {
      "text/plain": [
       "[103, 104, 105, 106, 107]"
      ]
     },
     "execution_count": 7,
     "metadata": {},
     "output_type": "execute_result"
    }
   ],
   "source": [
    "post_id"
   ]
  },
  {
   "cell_type": "code",
   "execution_count": 8,
   "metadata": {},
   "outputs": [],
   "source": [
    "import tensorflow as tf\n",
    "from tensorflow.keras.models import load_model\n",
    "from tensorflow.keras.utils import CustomObjectScope\n",
    "from CustomLayers.inception_cell import Inception_cell\n",
    "from CustomLayers.skip_connection import SkipConnection\n",
    "from CustomLayers.cosine_annealing_scheduler import CosineAnnealingScheduler"
   ]
  },
  {
   "cell_type": "code",
   "execution_count": 9,
   "metadata": {},
   "outputs": [
    {
     "name": "stdout",
     "output_type": "stream",
     "text": [
      "WARNING:tensorflow:From c:\\Users\\jyoti\\AppData\\Local\\Programs\\Python\\Python311\\Lib\\site-packages\\keras\\src\\backend\\tensorflow\\core.py:192: The name tf.placeholder is deprecated. Please use tf.compat.v1.placeholder instead.\n",
      "\n"
     ]
    },
    {
     "name": "stderr",
     "output_type": "stream",
     "text": [
      "WARNING:absl:Compiled the loaded model, but the compiled metrics have yet to be built. `model.compile_metrics` will be empty until you train or evaluate the model.\n"
     ]
    }
   ],
   "source": [
    "with CustomObjectScope({'Inception_cell':Inception_cell,'SkipConnection':SkipConnection,'CosineAnnealingScheduler':CosineAnnealingScheduler}):\n",
    "    model=load_model(r'Models\\drug_sentiment_img.h5')"
   ]
  },
  {
   "cell_type": "code",
   "execution_count": 10,
   "metadata": {},
   "outputs": [],
   "source": [
    "def preprocessing_img(img_path):\n",
    "    img=tf.io.read_file(img_path)\n",
    "    img=tf.image.decode_jpeg(img,channels=3)\n",
    "    img=tf.image.resize(img,(256,256))\n",
    "    img/=255.0\n",
    "    return img"
   ]
  },
  {
   "cell_type": "code",
   "execution_count": 11,
   "metadata": {},
   "outputs": [],
   "source": [
    "input_img=[preprocessing_img(img_path) for img_path in img_src]"
   ]
  },
  {
   "cell_type": "code",
   "execution_count": 12,
   "metadata": {},
   "outputs": [],
   "source": [
    "import numpy as np\n",
    "input_img=np.array(input_img)"
   ]
  },
  {
   "cell_type": "code",
   "execution_count": 13,
   "metadata": {},
   "outputs": [
    {
     "data": {
      "text/plain": [
       "(5, 256, 256, 3)"
      ]
     },
     "execution_count": 13,
     "metadata": {},
     "output_type": "execute_result"
    }
   ],
   "source": [
    "input_img.shape"
   ]
  },
  {
   "cell_type": "code",
   "execution_count": 14,
   "metadata": {},
   "outputs": [
    {
     "name": "stdout",
     "output_type": "stream",
     "text": [
      "\u001b[1m1/1\u001b[0m \u001b[32m━━━━━━━━━━━━━━━━━━━━\u001b[0m\u001b[37m\u001b[0m \u001b[1m0s\u001b[0m 245ms/step\n"
     ]
    }
   ],
   "source": [
    "pred=model.predict(input_img)"
   ]
  },
  {
   "cell_type": "code",
   "execution_count": 15,
   "metadata": {},
   "outputs": [
    {
     "data": {
      "text/plain": [
       "array([[4.4544257e-05],\n",
       "       [4.6462836e-05],\n",
       "       [2.8652481e-03],\n",
       "       [9.9990171e-01],\n",
       "       [9.9990171e-01]], dtype=float32)"
      ]
     },
     "execution_count": 15,
     "metadata": {},
     "output_type": "execute_result"
    }
   ],
   "source": [
    "pred"
   ]
  },
  {
   "cell_type": "code",
   "execution_count": 16,
   "metadata": {},
   "outputs": [],
   "source": [
    "pred=tf.cast(tf.round(pred),tf.int32)\n"
   ]
  },
  {
   "cell_type": "code",
   "execution_count": 17,
   "metadata": {},
   "outputs": [
    {
     "data": {
      "text/plain": [
       "<tf.Tensor: shape=(5, 1), dtype=int32, numpy=\n",
       "array([[0],\n",
       "       [0],\n",
       "       [0],\n",
       "       [1],\n",
       "       [1]])>"
      ]
     },
     "execution_count": 17,
     "metadata": {},
     "output_type": "execute_result"
    }
   ],
   "source": [
    "pred"
   ]
  },
  {
   "cell_type": "code",
   "execution_count": 18,
   "metadata": {},
   "outputs": [],
   "source": [
    "pred=pred.numpy()"
   ]
  },
  {
   "cell_type": "code",
   "execution_count": 19,
   "metadata": {},
   "outputs": [],
   "source": [
    "pred=[p[0] for p in pred]"
   ]
  },
  {
   "cell_type": "code",
   "execution_count": 20,
   "metadata": {},
   "outputs": [
    {
     "data": {
      "text/plain": [
       "[0, 0, 0, 1, 1]"
      ]
     },
     "execution_count": 20,
     "metadata": {},
     "output_type": "execute_result"
    }
   ],
   "source": [
    "pred"
   ]
  },
  {
   "cell_type": "code",
   "execution_count": 23,
   "metadata": {},
   "outputs": [],
   "source": [
    "blacklist_user=[]\n",
    "blacklist_post=[]\n",
    "for uid,pid,img_sentiment in zip(user_id,post_id,pred):\n",
    "    if img_sentiment==0:\n",
    "        blacklist_user.append(uid)\n",
    "        blacklist_post.append(pid)"
   ]
  },
  {
   "cell_type": "code",
   "execution_count": 24,
   "metadata": {},
   "outputs": [
    {
     "data": {
      "text/plain": [
       "[31, 31, 31]"
      ]
     },
     "execution_count": 24,
     "metadata": {},
     "output_type": "execute_result"
    }
   ],
   "source": [
    "blacklist_user"
   ]
  },
  {
   "cell_type": "code",
   "execution_count": 25,
   "metadata": {},
   "outputs": [
    {
     "data": {
      "text/plain": [
       "[103, 104, 105]"
      ]
     },
     "execution_count": 25,
     "metadata": {},
     "output_type": "execute_result"
    }
   ],
   "source": [
    "blacklist_post"
   ]
  },
  {
   "cell_type": "code",
   "execution_count": 26,
   "metadata": {},
   "outputs": [],
   "source": [
    "blacklist_user=set(blacklist_user)\n"
   ]
  },
  {
   "cell_type": "code",
   "execution_count": 28,
   "metadata": {},
   "outputs": [],
   "source": [
    "blacklist_user_info=[]\n",
    "for inst in data:\n",
    "    if inst['post_id'] in blacklist_post:\n",
    "        blacklist_user_info.append(inst)"
   ]
  },
  {
   "cell_type": "code",
   "execution_count": 29,
   "metadata": {},
   "outputs": [
    {
     "data": {
      "text/plain": [
       "[{'post_id': 103,\n",
       "  'user': 31,\n",
       "  'description': '#powder',\n",
       "  'imgSrc': 'C:\\\\Desktop\\\\CodeUtsava\\\\React-Instagram-Clone-2.0\\\\dist\\\\posts\\\\instagram_1729933298648.jpg',\n",
       "  'location': '',\n",
       "  'comments': [],\n",
       "  'comment_authors': []},\n",
       " {'post_id': 104,\n",
       "  'user': 31,\n",
       "  'description': '#drug',\n",
       "  'imgSrc': 'C:\\\\Desktop\\\\CodeUtsava\\\\React-Instagram-Clone-2.0\\\\dist\\\\posts\\\\instagram_1729933318839.jpg',\n",
       "  'location': '',\n",
       "  'comments': [],\n",
       "  'comment_authors': []},\n",
       " {'post_id': 105,\n",
       "  'user': 31,\n",
       "  'description': '#marijuana',\n",
       "  'imgSrc': 'C:\\\\Desktop\\\\CodeUtsava\\\\React-Instagram-Clone-2.0\\\\dist\\\\posts\\\\instagram_1729933342489.jpg',\n",
       "  'location': '',\n",
       "  'comments': [],\n",
       "  'comment_authors': []}]"
      ]
     },
     "execution_count": 29,
     "metadata": {},
     "output_type": "execute_result"
    }
   ],
   "source": [
    "blacklist_user_info"
   ]
  },
  {
   "cell_type": "code",
   "execution_count": null,
   "metadata": {},
   "outputs": [],
   "source": []
  }
 ],
 "metadata": {
  "kernelspec": {
   "display_name": "generative",
   "language": "python",
   "name": "generative"
  },
  "language_info": {
   "codemirror_mode": {
    "name": "ipython",
    "version": 3
   },
   "file_extension": ".py",
   "mimetype": "text/x-python",
   "name": "python",
   "nbconvert_exporter": "python",
   "pygments_lexer": "ipython3",
   "version": "3.11.5"
  }
 },
 "nbformat": 4,
 "nbformat_minor": 2
}
