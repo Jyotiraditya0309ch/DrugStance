{
 "cells": [
  {
   "cell_type": "code",
   "execution_count": null,
   "id": "2293930b-347d-46a7-b013-4518f826ae05",
   "metadata": {},
   "outputs": [],
   "source": [
    "import numpy as np\n",
    "import pandas as pd\n",
    "import tensorflow as tf"
   ]
  },
  {
   "cell_type": "code",
   "execution_count": null,
   "id": "db3afd0a-2a6f-4da5-a852-36d5d0ff767c",
   "metadata": {},
   "outputs": [],
   "source": [
    "from tensorflow.keras.layers import Dense,Conv2D,Flatten,MaxPooling2D,Dropout,Input,Layer"
   ]
  },
  {
   "cell_type": "code",
   "execution_count": null,
   "id": "3ed9b457-4867-437b-bba6-a6270773de26",
   "metadata": {},
   "outputs": [],
   "source": [
    "from tensorflow.keras.layers import Concatenate,BatchNormalization"
   ]
  },
  {
   "cell_type": "code",
   "execution_count": null,
   "id": "48b99a1b-5ec5-4cbf-b459-8a59b1ec208c",
   "metadata": {},
   "outputs": [],
   "source": [
    "from tensorflow.keras.models import Model\n",
    "from tensorflow.keras.optimizers import Adam"
   ]
  },
  {
   "cell_type": "markdown",
   "id": "2829ed10-e350-4600-9709-c0d2da9b08c2",
   "metadata": {},
   "source": [
    "#Model Building"
   ]
  },
  {
   "cell_type": "code",
   "execution_count": null,
   "id": "97658063-0983-4771-a81d-8b809b93b7b3",
   "metadata": {},
   "outputs": [],
   "source": [
    "class Inception_cell(Layer):\n",
    "    def __init__(self,num_filters,activation='relu',padding='same',kernel_initializer='he_normal',**kwargs):\n",
    "        super().__init__(**kwargs)\n",
    "        self.num_filters=num_filters\n",
    "        self.activation=activation\n",
    "        self.padding=padding\n",
    "        self.kernel_initializer=kernel_initializer\n",
    "        self.conv1=Conv2D(self.num_filters,(3,3),activation=self.activation,padding=self.padding,kernel_initializer=self.kernel_initializer)\n",
    "        self.conv2=Conv2D(self.num_filters,(5,5),activation=self.activation,padding=self.padding,kernel_initializer=self.kernel_initializer)\n",
    "        self.conv3=Conv2D(self.num_filters,(7,7),activation=self.activation,padding=self.padding,kernel_initializer=self.kernel_initializer)\n",
    "        \n",
    "    def call(self,input):\n",
    "        x1=self.conv1(input)\n",
    "        x2=self.conv2(input)\n",
    "        x3=self.conv3(input)\n",
    "        out=Concatenate(axis=-1)([x1,x2,x3])\n",
    "        return out\n",
    "        \n",
    "    def get_config(self):\n",
    "        config=super().get_config()\n",
    "        config.update({\n",
    "            'num_filters':self.num_filters,\n",
    "            'activation':self.activation,\n",
    "            'padding':self.padding,\n",
    "            'kernel_initializer':self.kernel_initializer\n",
    "        })\n",
    "        return config\n",
    "\n",
    "\n",
    "        "
   ]
  },
  {
   "cell_type": "code",
   "execution_count": null,
   "id": "a620fa8a-939b-49bf-8b71-ccc921453b27",
   "metadata": {},
   "outputs": [],
   "source": [
    "class SkipConnection(Layer):\n",
    "    def __init__(self,num_filters,kernel_size,activation='relu',padding='same',kernel_initializer='he_normal',**kwargs):\n",
    "        super().__init__(**kwargs)\n",
    "        self.num_filters=num_filters\n",
    "        self.activation=activation\n",
    "        self.padding=padding\n",
    "        self.kernel_size=kernel_size\n",
    "        self.kernel_initializer=kernel_initializer\n",
    "        self.conv=Conv2D(self.num_filters,(7,7),activation=self.activation,padding=self.padding,kernel_initializer=self.kernel_initializer)\n",
    "        self.batch_normalization=BatchNormalization()\n",
    "        \n",
    "    def call(self,input):\n",
    "        x=self.conv(input)\n",
    "        x=self.batch_normalization(x)\n",
    "        x=Concatenate(axis=-1)([x,input])\n",
    "        return x\n",
    "        \n",
    "    def get_config(self):\n",
    "        config=super().get_config()\n",
    "        config.update({\n",
    "            'num_filters':self.num_filters,\n",
    "            'activation':self.activation,\n",
    "            'padding':self.padding,\n",
    "            'kernel_size':self.kernel_size,\n",
    "            'kernel_initializer':self.kernel_initializer\n",
    "        })\n",
    "        return config\n",
    "        \n",
    "        "
   ]
  },
  {
   "cell_type": "code",
   "execution_count": null,
   "id": "5f7974f2-5b30-4945-b03f-b1f4f596c69d",
   "metadata": {},
   "outputs": [],
   "source": [
    "def build_model(input_shape):\n",
    "    inp=Input(shape=input_shape,dtype=tf.float32)\n",
    "    # Inception cell\n",
    "    x=Inception_cell(num_filters=8)(inp)\n",
    "    x=MaxPooling2D((2,2),padding='same')(x)\n",
    "    x=Inception_cell(num_filters=16)(x)\n",
    "    x=MaxPooling2D((2,2),padding='same')(x)\n",
    "    \n",
    "    # Skip Connection Cell\n",
    "    x=SkipConnection(num_filters=16,kernel_size=(3,3))(x)\n",
    "    x=MaxPooling2D((2,2),padding='same')(x)\n",
    "    x=SkipConnection(num_filters=32,kernel_size=(3,3))(x)\n",
    "    x=MaxPooling2D((2,2),padding='same')(x)\n",
    "\n",
    "    # Final Layers\n",
    "    x=Flatten()(x)\n",
    "    x=Dense(units=512,activation='relu',kernel_initializer='he_normal')(x)\n",
    "    x=Dense(units=128,activation='relu',kernel_initializer='he_normal')(x)\n",
    "    x=Dropout(0.2)(x)\n",
    "    x=Dense(units=32,activation='relu',kernel_initializer='he_normal')(x)\n",
    "    x=Dense(units=8,activation='relu',kernel_initializer='he_normal')(x)\n",
    "    x=Dense(units=1,activation='sigmoid',kernel_initializer='glorot_normal')(x)\n",
    "    \n",
    "    # Model\n",
    "    model=Model(inputs=inp,outputs=x)\n",
    "    \n",
    "    return model\n",
    "    \n",
    "    \n",
    "    \n",
    "    \n",
    "    "
   ]
  },
  {
   "cell_type": "code",
   "execution_count": null,
   "id": "d80c96b9-119c-4e3b-aeac-7930cdeba0ea",
   "metadata": {},
   "outputs": [],
   "source": [
    "model=build_model(input_shape=(256,256,3))"
   ]
  },
  {
   "cell_type": "code",
   "execution_count": null,
   "id": "f20553af-3d2b-42f8-824a-5d7fa4392830",
   "metadata": {},
   "outputs": [],
   "source": [
    "model.summary()"
   ]
  },
  {
   "cell_type": "code",
   "execution_count": null,
   "id": "8d24f05c-7ffc-47b7-be9d-3d5b8435a3f7",
   "metadata": {},
   "outputs": [],
   "source": [
    "import math\n",
    "from tensorflow.keras.callbacks import LearningRateScheduler\n",
    "\n",
    "class CosineAnnealingScheduler(LearningRateScheduler):\n",
    "    \n",
    "    def __init__(self,initial_learning_rate,total_epochs):\n",
    "        self.total_epochs=total_epochs\n",
    "        self.initial_lr=initial_learning_rate\n",
    "        super().__init__(self.scheduler_function,verbose=0)\n",
    "        \n",
    "    def scheduler_function(self,epoch,lr):\n",
    "        return 0.5*self.initial_lr*(1+math.cos(math.pi*(epoch/self.total_epochs)))\n",
    "        \n",
    "    def get_config(self):\n",
    "        config=super().get_config()\n",
    "        config.update(\n",
    "            {\n",
    "                'initial_lr':self.initial_lr,\n",
    "                'total_epochs':self.total_epochs\n",
    "            }\n",
    "        )\n",
    "        return config\n",
    "       \n",
    "        "
   ]
  },
  {
   "cell_type": "markdown",
   "id": "1962c029-a59b-44e2-b9fb-b3fae3c04d4d",
   "metadata": {},
   "source": [
    "#Model Training"
   ]
  },
  {
   "cell_type": "code",
   "execution_count": null,
   "id": "1779d639-485b-46e9-ae22-a6f2c64d86b3",
   "metadata": {},
   "outputs": [],
   "source": [
    "optimizer=Adam(learning_rate=0.01,beta_1=0.96,beta_2=0.98)\n",
    "model.compile(optimizer=optimizer,\n",
    "              loss='binary_crossentropy',\n",
    "              metrics=['accuracy'])"
   ]
  },
  {
   "cell_type": "code",
   "execution_count": null,
   "id": "fc0624d1-c423-4ba0-af97-2fea6cb8bc3e",
   "metadata": {},
   "outputs": [],
   "source": [
    "epochs=2\n",
    "batch_size=100\n",
    "callback1=CosineAnnealingScheduler(initial_learning_rate=0.01,total_epochs=epochs)"
   ]
  },
  {
   "cell_type": "code",
   "execution_count": null,
   "id": "97ae93ef-33a5-40aa-896b-3a8ca2ce4bcd",
   "metadata": {},
   "outputs": [],
   "source": [
    "from tensorflow.keras.preprocessing.image import ImageDataGenerator"
   ]
  },
  {
   "cell_type": "code",
   "execution_count": null,
   "id": "0e4b0e12-54bd-413e-bbb4-3f947f39090e",
   "metadata": {},
   "outputs": [],
   "source": [
    "train_datagen=ImageDataGenerator(rescale=1/255.0)"
   ]
  },
  {
   "cell_type": "code",
   "execution_count": null,
   "id": "a070044b-cc4c-4a95-8013-c4207426e3c8",
   "metadata": {},
   "outputs": [],
   "source": [
    "train_dir=r\"D:\\Codeutsav\\Images\""
   ]
  },
  {
   "cell_type": "code",
   "execution_count": null,
   "id": "ee303f17-9e96-42a7-8f1c-d0b886e5bbcb",
   "metadata": {},
   "outputs": [],
   "source": [
    "train_generator=train_datagen.flow_from_directory(\n",
    "    train_dir,\n",
    "    target_size=(256,256),\n",
    "    batch_size=batch_size,\n",
    "    class_mode='sparse'\n",
    ")"
   ]
  },
  {
   "cell_type": "code",
   "execution_count": null,
   "id": "3f913f23-b10e-47b4-b689-cac25a1681e1",
   "metadata": {},
   "outputs": [],
   "source": [
    "train_generator.class_indices"
   ]
  },
  {
   "cell_type": "code",
   "execution_count": null,
   "id": "a6d9b8a2-7a3a-4aa5-9154-5ead12e27f1b",
   "metadata": {},
   "outputs": [],
   "source": [
    "history=model.fit(train_generator,callbacks=[callback1],batch_size=batch_size,epochs=epochs)"
   ]
  },
  {
   "cell_type": "code",
   "execution_count": null,
   "id": "19126a7f-294b-4d03-a25e-343e14e786ea",
   "metadata": {},
   "outputs": [],
   "source": [
    "model.save('drug_finder_img.h5')"
   ]
  },
  {
   "cell_type": "code",
   "execution_count": null,
   "id": "79c69609-cc84-4e19-8725-a7e7f0a4b7bd",
   "metadata": {},
   "outputs": [],
   "source": []
  }
 ],
 "metadata": {
  "kernelspec": {
   "display_name": "Python 3 (ipykernel)",
   "language": "python",
   "name": "python3"
  },
  "language_info": {
   "codemirror_mode": {
    "name": "ipython",
    "version": 3
   },
   "file_extension": ".py",
   "mimetype": "text/x-python",
   "name": "python",
   "nbconvert_exporter": "python",
   "pygments_lexer": "ipython3",
   "version": "3.11.4"
  }
 },
 "nbformat": 4,
 "nbformat_minor": 5
}
