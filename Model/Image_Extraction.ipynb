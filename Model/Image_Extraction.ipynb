{
 "cells": [
  {
   "cell_type": "code",
   "execution_count": 1,
   "id": "fe6f655b-95a8-45ec-b2e4-fc749240bb99",
   "metadata": {},
   "outputs": [],
   "source": [
    "import os"
   ]
  },
  {
   "cell_type": "code",
   "execution_count": 2,
   "id": "cacb41d3-9509-4ffa-b27a-dab2a5369dff",
   "metadata": {},
   "outputs": [],
   "source": [
    "img_dir=r\"D:\\Codeutsav\\Dataset\\Data\""
   ]
  },
  {
   "cell_type": "code",
   "execution_count": 8,
   "id": "f3636f27-eaee-4bd3-b335-a66dd6ae90b0",
   "metadata": {},
   "outputs": [],
   "source": [
    "new_img_location=r\"D:\\Codeutsav\\Images\\Normal\""
   ]
  },
  {
   "cell_type": "code",
   "execution_count": 5,
   "id": "a75ec9e7-5365-4f14-82df-90ee37a7f166",
   "metadata": {},
   "outputs": [],
   "source": [
    "import shutil"
   ]
  },
  {
   "cell_type": "code",
   "execution_count": 12,
   "id": "8317a31a-52f1-4ddd-9e47-dd3652f61e32",
   "metadata": {},
   "outputs": [],
   "source": [
    "img_paths=[]\n",
    "dir=os.listdir(img_dir)\n",
    "dir=[os.path.join(img_dir,path) for path in dir]\n",
    "for d in dir:\n",
    "    temp_dir=os.listdir(d)\n",
    "    temp_dir=[os.path.join(d,path) for path in temp_dir if path.endswith('.jpg')]\n",
    "    img_paths.extend(temp_dir)"
   ]
  },
  {
   "cell_type": "code",
   "execution_count": 14,
   "id": "f360e2dc-220b-472e-aef9-3c5633409ed4",
   "metadata": {},
   "outputs": [
    {
     "data": {
      "text/plain": [
       "5516"
      ]
     },
     "execution_count": 14,
     "metadata": {},
     "output_type": "execute_result"
    }
   ],
   "source": [
    "len(img_paths)"
   ]
  },
  {
   "cell_type": "code",
   "execution_count": 15,
   "id": "bc85b021-5074-4cd2-92cc-838259926cae",
   "metadata": {},
   "outputs": [],
   "source": [
    "for ind,path in enumerate(img_paths):\n",
    "    dest_path=os.path.join(new_img_location,f'{ind}.jpg')\n",
    "    shutil.move(path,dest_path)"
   ]
  },
  {
   "cell_type": "code",
   "execution_count": 16,
   "id": "416f4685-a2ae-4ce2-ac63-4d3f978a243e",
   "metadata": {},
   "outputs": [],
   "source": [
    "drug_dir=r\"D:\\Codeutsav\\Drugs\"\n",
    "dest_dir=r\"D:\\Codeutsav\\Images\\Drug\""
   ]
  },
  {
   "cell_type": "code",
   "execution_count": 17,
   "id": "c1b01934-23f8-4f7a-b8b4-4c0beb7ff1ec",
   "metadata": {},
   "outputs": [],
   "source": [
    "img_dir=os.listdir(drug_dir)\n",
    "img_dir=[os.path.join(drug_dir,path) for path in img_dir]\n",
    "img_paths=[]\n",
    "for dir in img_dir:\n",
    "    temp_dir=os.listdir(dir)\n",
    "    temp_dir=[os.path.join(dir,path) for path in temp_dir]\n",
    "    img_paths.extend(temp_dir)"
   ]
  },
  {
   "cell_type": "code",
   "execution_count": 19,
   "id": "1b62ef5a-7d6f-4a5a-9a92-6c7882739a5e",
   "metadata": {},
   "outputs": [],
   "source": [
    "for ind,path in enumerate(img_paths):\n",
    "    dest_path=os.path.join(dest_dir,f'{ind}.jpg')\n",
    "    shutil.copy(path,dest_path)"
   ]
  },
  {
   "cell_type": "code",
   "execution_count": null,
   "id": "741d0c3e-cf68-4e6c-a245-9ffaed43ebc0",
   "metadata": {},
   "outputs": [],
   "source": []
  }
 ],
 "metadata": {
  "kernelspec": {
   "display_name": "Python 3 (ipykernel)",
   "language": "python",
   "name": "python3"
  },
  "language_info": {
   "codemirror_mode": {
    "name": "ipython",
    "version": 3
   },
   "file_extension": ".py",
   "mimetype": "text/x-python",
   "name": "python",
   "nbconvert_exporter": "python",
   "pygments_lexer": "ipython3",
   "version": "3.11.4"
  }
 },
 "nbformat": 4,
 "nbformat_minor": 5
}
